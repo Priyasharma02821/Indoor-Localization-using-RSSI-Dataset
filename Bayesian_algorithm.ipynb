{
 "cells": [
  {
   "cell_type": "markdown",
   "metadata": {},
   "source": [
    "# Bayesian Algorithm for Indoor Localization"
   ]
  },
  {
   "cell_type": "code",
   "execution_count": 1,
   "metadata": {},
   "outputs": [
    {
     "data": {
      "text/plain": [
       "(   WAP001  WAP002  WAP003  WAP004  WAP005  WAP006  WAP007  WAP008  WAP009  \\\n",
       " 0     100     100     100     100     100     100     100     100     100   \n",
       " 1     100     100     100     100     100     100     100     100     100   \n",
       " 2     100     100     100     100     100     100     100     -97     100   \n",
       " 3     100     100     100     100     100     100     100     100     100   \n",
       " 4     100     100     100     100     100     100     100     100     100   \n",
       " \n",
       "    WAP010  ...  WAP520  LONGITUDE      LATITUDE  FLOOR  BUILDINGID  SPACEID  \\\n",
       " 0     100  ...     100 -7541.2643  4.864921e+06      2           1      106   \n",
       " 1     100  ...     100 -7536.6212  4.864934e+06      2           1      106   \n",
       " 2     100  ...     100 -7519.1524  4.864950e+06      2           1      103   \n",
       " 3     100  ...     100 -7524.5704  4.864934e+06      2           1      102   \n",
       " 4     100  ...     100 -7632.1436  4.864982e+06      0           0      122   \n",
       " \n",
       "    RELATIVEPOSITION  USERID  PHONEID   TIMESTAMP  \n",
       " 0                 2       2       23  1371713733  \n",
       " 1                 2       2       23  1371713691  \n",
       " 2                 2       2       23  1371714095  \n",
       " 3                 2       2       23  1371713807  \n",
       " 4                 2      11       13  1369909710  \n",
       " \n",
       " [5 rows x 529 columns],\n",
       " Index(['WAP001', 'WAP002', 'WAP003', 'WAP004', 'WAP005', 'WAP006', 'WAP007',\n",
       "        'WAP008', 'WAP009', 'WAP010',\n",
       "        ...\n",
       "        'WAP520', 'LONGITUDE', 'LATITUDE', 'FLOOR', 'BUILDINGID', 'SPACEID',\n",
       "        'RELATIVEPOSITION', 'USERID', 'PHONEID', 'TIMESTAMP'],\n",
       "       dtype='object', length=529))"
      ]
     },
     "execution_count": 1,
     "metadata": {},
     "output_type": "execute_result"
    }
   ],
   "source": [
    "# Let's first inspect the contents of the file to understand its structure\n",
    "import pandas as pd\n",
    "\n",
    "# Load the dataset from the file\n",
    "file_path = r'C:\\Users\\Hp\\OneDrive\\Minor Project\\archive (1)\\TrainingData.csv'\n",
    "dataset = pd.read_csv(file_path)\n",
    "\n",
    "# Show the first few rows of the dataset to understand its structure\n",
    "dataset.head(), dataset.columns\n"
   ]
  },
  {
   "cell_type": "code",
   "execution_count": 3,
   "metadata": {},
   "outputs": [
    {
     "data": {
      "image/png": "[encoded data removed]",
      "text/plain": [
       "<Figure size 800x600 with 1 Axes>"
      ]
     },
     "metadata": {},
     "output_type": "display_data"
    },
    {
     "data": {
      "text/plain": [
       "(0.4471748579070545,\n",
       " 0.5557647160340267,\n",
       " 0.4269937365938524,\n",
       " 0.5368502644863364)"
      ]
     },
     "execution_count": 3,
     "metadata": {},
     "output_type": "execute_result"
    }
   ],
   "source": [
    "from sklearn.model_selection import train_test_split\n",
    "from sklearn.naive_bayes import GaussianNB\n",
    "from sklearn.metrics import accuracy_score, precision_score, f1_score, recall_score, confusion_matrix\n",
    "import matplotlib.pyplot as plt\n",
    "import seaborn as sns\n",
    "import numpy as np\n",
    "\n",
    "# Define feature columns (WAP data) and target columns (FLOOR, BUILDINGID)\n",
    "X = dataset.iloc[:, :520]  # WAP columns\n",
    "y_floor = dataset['FLOOR']  # Target: FLOOR classification\n",
    "y_building = dataset['BUILDINGID']  # Target: BUILDING classification\n",
    "\n",
    "# Split data into training and testing sets\n",
    "X_train, X_test, y_train_floor, y_test_floor, y_train_building, y_test_building = train_test_split(\n",
    "    X, y_floor, y_building, test_size=0.3, random_state=42)\n",
    "\n",
    "# Initialize the Bayes model\n",
    "bayes_model_floor = GaussianNB()\n",
    "bayes_model_building = GaussianNB()\n",
    "\n",
    "# Train the model on FLOOR classification\n",
    "bayes_model_floor.fit(X_train, y_train_floor)\n",
    "\n",
    "# Predict the test set for FLOOR\n",
    "y_pred_floor = bayes_model_floor.predict(X_test)\n",
    "\n",
    "# Train the model on BUILDING classification\n",
    "bayes_model_building.fit(X_train, y_train_building)\n",
    "\n",
    "# Predict the test set for BUILDING\n",
    "y_pred_building = bayes_model_building.predict(X_test)\n",
    "\n",
    "# Calculate the performance metrics for FLOOR prediction\n",
    "accuracy_floor = accuracy_score(y_test_floor, y_pred_floor)\n",
    "precision_floor = precision_score(y_test_floor, y_pred_floor, average='macro')\n",
    "f1_floor = f1_score(y_test_floor, y_pred_floor, average='macro')\n",
    "recall_floor = recall_score(y_test_floor, y_pred_floor, average='macro')\n",
    "\n",
    "# Confusion Matrix for FLOOR classification\n",
    "conf_matrix_floor = confusion_matrix(y_test_floor, y_pred_floor)\n",
    "\n",
    "# Plot confusion matrix\n",
    "plt.figure(figsize=(8, 6))\n",
    "sns.heatmap(conf_matrix_floor, annot=True, fmt=\"d\", cmap='Blues', cbar=False)\n",
    "plt.title('Confusion Matrix for FLOOR Prediction')\n",
    "plt.xlabel('Predicted')\n",
    "plt.ylabel('Actual')\n",
    "plt.show()\n",
    "\n",
    "# Display performance metrics\n",
    "accuracy_floor, precision_floor, f1_floor, recall_floor\n"
   ]
  },
  {
   "cell_type": "code",
   "execution_count": 4,
   "metadata": {},
   "outputs": [
    {
     "data": {
      "text/html": [
       "<div>\n",
       "<style scoped>\n",
       "    .dataframe tbody tr th:only-of-type {\n",
       "        vertical-align: middle;\n",
       "    }\n",
       "\n",
       "    .dataframe tbody tr th {\n",
       "        vertical-align: top;\n",
       "    }\n",
       "\n",
       "    .dataframe thead th {\n",
       "        text-align: right;\n",
       "    }\n",
       "</style>\n",
       "<table border=\"1\" class=\"dataframe\">\n",
       "  <thead>\n",
       "    <tr style=\"text-align: right;\">\n",
       "      <th></th>\n",
       "      <th>Metric</th>\n",
       "      <th>Value</th>\n",
       "    </tr>\n",
       "  </thead>\n",
       "  <tbody>\n",
       "    <tr>\n",
       "      <th>0</th>\n",
       "      <td>Accuracy</td>\n",
       "      <td>0.993480</td>\n",
       "    </tr>\n",
       "    <tr>\n",
       "      <th>1</th>\n",
       "      <td>Precision</td>\n",
       "      <td>0.994413</td>\n",
       "    </tr>\n",
       "    <tr>\n",
       "      <th>2</th>\n",
       "      <td>F1 Score</td>\n",
       "      <td>0.993783</td>\n",
       "    </tr>\n",
       "    <tr>\n",
       "      <th>3</th>\n",
       "      <td>Recall</td>\n",
       "      <td>0.993180</td>\n",
       "    </tr>\n",
       "    <tr>\n",
       "      <th>4</th>\n",
       "      <td>Cross-Validation Accuracy</td>\n",
       "      <td>0.819890</td>\n",
       "    </tr>\n",
       "  </tbody>\n",
       "</table>\n",
       "</div>"
      ],
      "text/plain": [
       "                      Metric     Value\n",
       "0                   Accuracy  0.993480\n",
       "1                  Precision  0.994413\n",
       "2                   F1 Score  0.993783\n",
       "3                     Recall  0.993180\n",
       "4  Cross-Validation Accuracy  0.819890"
      ]
     },
     "execution_count": 4,
     "metadata": {},
     "output_type": "execute_result"
    }
   ],
   "source": [
    "from sklearn.ensemble import RandomForestClassifier\n",
    "from sklearn.preprocessing import StandardScaler\n",
    "from sklearn.model_selection import cross_val_score\n",
    "\n",
    "# Scale the data (WAP features)\n",
    "scaler = StandardScaler()\n",
    "X_scaled = scaler.fit_transform(X)\n",
    "\n",
    "# Split the scaled data\n",
    "X_train_scaled, X_test_scaled, y_train_floor, y_test_floor = train_test_split(\n",
    "    X_scaled, y_floor, test_size=0.3, random_state=42)\n",
    "\n",
    "# Initialize and train a Random Forest model\n",
    "rf_model_floor = RandomForestClassifier(n_estimators=100, random_state=42)\n",
    "rf_model_floor.fit(X_train_scaled, y_train_floor)\n",
    "\n",
    "# Predict the test set for FLOOR\n",
    "y_pred_floor_rf = rf_model_floor.predict(X_test_scaled)\n",
    "\n",
    "# Calculate the performance metrics for FLOOR prediction using Random Forest\n",
    "accuracy_floor_rf = accuracy_score(y_test_floor, y_pred_floor_rf)\n",
    "precision_floor_rf = precision_score(y_test_floor, y_pred_floor_rf, average='macro')\n",
    "f1_floor_rf = f1_score(y_test_floor, y_pred_floor_rf, average='macro')\n",
    "recall_floor_rf = recall_score(y_test_floor, y_pred_floor_rf, average='macro')\n",
    "\n",
    "# Perform cross-validation for more robust evaluation\n",
    "cv_scores = cross_val_score(rf_model_floor, X_scaled, y_floor, cv=5, scoring='accuracy')\n",
    "\n",
    "# Display performance metrics and cross-validation scores\n",
    "accuracy_floor_rf, precision_floor_rf, f1_floor_rf, recall_floor_rf, cv_scores.mean()\n",
    "\n",
    "import pandas as pd\n",
    "\n",
    "# Create a table with the performance metrics\n",
    "performance_table = pd.DataFrame({\n",
    "    'Metric': ['Accuracy', 'Precision', 'F1 Score', 'Recall', 'Cross-Validation Accuracy'],\n",
    "    'Value': [accuracy_floor_rf, precision_floor_rf, f1_floor_rf, recall_floor_rf, cv_scores.mean()]\n",
    "})\n",
    "\n",
    "performance_table\n",
    "\n"
   ]
  }
 ],
 "metadata": {
  "kernelspec": {
   "display_name": "Python 3",
   "language": "python",
   "name": "python3"
  },
  "language_info": {
   "codemirror_mode": {
    "name": "ipython",
    "version": 3
   },
   "file_extension": ".py",
   "mimetype": "text/x-python",
   "name": "python",
   "nbconvert_exporter": "python",
   "pygments_lexer": "ipython3",
   "version": "3.12.4"
  }
 },
 "nbformat": 4,
 "nbformat_minor": 2
}
